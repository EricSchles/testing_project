{
 "cells": [
  {
   "cell_type": "code",
   "execution_count": 1,
   "id": "e9fc6123",
   "metadata": {},
   "outputs": [],
   "source": [
    "import math"
   ]
  },
  {
   "cell_type": "code",
   "execution_count": 7,
   "id": "ac31da80",
   "metadata": {},
   "outputs": [],
   "source": [
    "import random\n",
    "\n",
    "def populate_list():\n",
    "    return [random.randint(0, 1000)\n",
    "            for _ in range(10000)]\n",
    "\n",
    "def sum_elements(list_one, list_two):\n",
    "    summation = []\n",
    "    for index, elem in enumerate(list_one):\n",
    "        summation.append(elem + list_two[index])\n",
    "    return summation\n",
    "\n",
    "list_one = populate_list()\n",
    "list_two = populate_list()"
   ]
  },
  {
   "cell_type": "code",
   "execution_count": 8,
   "id": "053d8f9e",
   "metadata": {},
   "outputs": [
    {
     "name": "stdout",
     "output_type": "stream",
     "text": [
      "25.6 ns ± 1.04 ns per loop (mean ± std. dev. of 7 runs, 10000000 loops each)\n"
     ]
    }
   ],
   "source": [
    "%timeit sum_elements"
   ]
  },
  {
   "cell_type": "code",
   "execution_count": 19,
   "id": "4835d7e2",
   "metadata": {},
   "outputs": [],
   "source": [
    "import numpy as np\n",
    "\n",
    "def sum_elements_np(list_one, list_two):\n",
    "    arr_one = np.array(list_one)\n",
    "    arr_two = np.array(list_two)\n",
    "    return list_one + list_two\n",
    "\n",
    "list_one, list_two = np.array(list_one), np.array(list_two)"
   ]
  },
  {
   "cell_type": "code",
   "execution_count": 20,
   "id": "4fb90268",
   "metadata": {},
   "outputs": [
    {
     "name": "stdout",
     "output_type": "stream",
     "text": [
      "4.8 µs ± 103 ns per loop (mean ± std. dev. of 7 runs, 100000 loops each)\n"
     ]
    }
   ],
   "source": [
    "%timeit list_one + list_two"
   ]
  },
  {
   "cell_type": "code",
   "execution_count": 11,
   "id": "2f34576c",
   "metadata": {},
   "outputs": [
    {
     "data": {
      "text/plain": [
       "1.292929292929293"
      ]
     },
     "execution_count": 11,
     "metadata": {},
     "output_type": "execute_result"
    }
   ],
   "source": [
    "25.6/19.8"
   ]
  },
  {
   "cell_type": "code",
   "execution_count": 15,
   "id": "8db04989",
   "metadata": {},
   "outputs": [
    {
     "name": "stdout",
     "output_type": "stream",
     "text": [
      "[0, 1, 2, 3, 4, 5, 6, 7, 8, 9]\n",
      "52\n"
     ]
    }
   ],
   "source": [
    "def new_list_gen(listing):\n",
    "    new_list = listing[:]\n",
    "    new_list[0] = 7\n",
    "    return sum(new_list)\n",
    "\n",
    "listing = list(range(10))\n",
    "summation = new_list_gen(listing)\n",
    "print(listing)\n",
    "print(summation)"
   ]
  },
  {
   "cell_type": "code",
   "execution_count": 25,
   "id": "6d3036ae",
   "metadata": {},
   "outputs": [
    {
     "data": {
      "text/plain": [
       "0.005"
      ]
     },
     "execution_count": 25,
     "metadata": {},
     "output_type": "execute_result"
    }
   ],
   "source": [
    "list_one[list_one < 5]"
   ]
  },
  {
   "cell_type": "code",
   "execution_count": null,
   "id": "8c57cbc6",
   "metadata": {},
   "outputs": [],
   "source": [
    "#SELECT * FROM TABLE WHERE col_one<5"
   ]
  }
 ],
 "metadata": {
  "kernelspec": {
   "display_name": "Python 3",
   "language": "python",
   "name": "python3"
  },
  "language_info": {
   "codemirror_mode": {
    "name": "ipython",
    "version": 3
   },
   "file_extension": ".py",
   "mimetype": "text/x-python",
   "name": "python",
   "nbconvert_exporter": "python",
   "pygments_lexer": "ipython3",
   "version": "3.9.5"
  }
 },
 "nbformat": 4,
 "nbformat_minor": 5
}
